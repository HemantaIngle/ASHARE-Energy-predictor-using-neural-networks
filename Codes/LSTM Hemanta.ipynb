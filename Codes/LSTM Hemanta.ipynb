{
 "cells": [
  {
   "cell_type": "markdown",
   "metadata": {},
   "source": [
    "# Ashare Energy Predictor 3"
   ]
  },
  {
   "cell_type": "code",
   "execution_count": null,
   "metadata": {},
   "outputs": [],
   "source": [
    "#Topic- Ashare Energy prediction \n",
    "#Course- EE 258, Neural Networks , SanJose State University, CA\n",
    "#Name of team- Greener Earth\n",
    "#Team Members- Hemanta Ingle, Siddhesh Gaiki\n",
    "#Guided by- Prof. Birsen Sirkeci\n",
    "#Neural Network used is LSTM.\n",
    "#Base code is referenced from Kaggle website credits are given in readme file .\n",
    "#Software used- Jupyter notebook.\n",
    "\n",
    "\n",
    "# In this project we create a LSTM based neural network to tackle the problem of regression, data generatoris an effecient technique that has\n",
    "# also been employed here, the prediction file Submission.csv is generated at the output\n",
    "# please view the readme file for further information "
   ]
  },
  {
   "cell_type": "code",
   "execution_count": 106,
   "metadata": {},
   "outputs": [],
   "source": [
    "import time # this block is used as a mesure to avoid thw frequent restarts by the kaaggle kernal, but later we \n",
    "#implemented this code in Jupyter notebook\n",
    "\n",
    "#let's also import the abstract base class for our callback\n",
    "from keras.callbacks import Callback\n",
    "\n",
    "#defining the callback\n",
    "class TimerCallback(Callback):\n",
    "    \n",
    "    def __init__(self, maxExecutionTime, byBatch = False, on_interrupt=None):\n",
    "        \n",
    "# Arguments:\n",
    "#     maxExecutionTime (number): Time in minutes. The model will keep training \n",
    "#                                until shortly before this limit\n",
    "#                                (If you need safety, provide a time with a certain tolerance)\n",
    "\n",
    "#     byBatch (boolean)     : If True, will try to interrupt training at the end of each batch\n",
    "#                             If False, will try to interrupt the model at the end of each epoch    \n",
    "#                            (use `byBatch = True` only if each epoch is going to take hours)          \n",
    "\n",
    "#     on_interrupt (method)          : called when training is interrupted\n",
    "#         signature: func(model,elapsedTime), where...\n",
    "#               model: the model being trained\n",
    "#               elapsedTime: the time passed since the beginning until interruption   \n",
    "\n",
    "        \n",
    "        self.maxExecutionTime = maxExecutionTime * 60\n",
    "        self.on_interrupt = on_interrupt\n",
    "        \n",
    "        #the same handler is used for checking each batch or each epoch\n",
    "        if byBatch == True:\n",
    "            #on_batch_end is called by keras every time a batch finishes\n",
    "            self.on_batch_end = self.on_end_handler\n",
    "        else:\n",
    "            #on_epoch_end is called by keras every time an epoch finishes\n",
    "            self.on_epoch_end = self.on_end_handler\n",
    "    \n",
    "    \n",
    "    #Keras will call this when training begins\n",
    "    def on_train_begin(self, logs):\n",
    "        self.startTime = time.time()\n",
    "        self.longestTime = 0            #time taken by the longest epoch or batch\n",
    "        self.lastTime = self.startTime  #time when the last trained epoch or batch was finished\n",
    "    \n",
    "    \n",
    "    #this is our custom handler that will be used in place of the keras methods:\n",
    "        #`on_batch_end(batch,logs)` or `on_epoch_end(epoch,logs)`\n",
    "    def on_end_handler(self, index, logs):\n",
    "        \n",
    "        currentTime      = time.time()                           \n",
    "        self.elapsedTime = currentTime - self.startTime    #total time taken until now\n",
    "        thisTime         = currentTime - self.lastTime     #time taken for the current epoch\n",
    "                                                               #or batch to finish\n",
    "        \n",
    "        self.lastTime = currentTime\n",
    "        \n",
    "        #verifications will be made based on the longest epoch or batch\n",
    "        if thisTime > self.longestTime:\n",
    "            self.longestTime = thisTime\n",
    "        \n",
    "        \n",
    "        #if the (assumed) time taken by the next epoch or batch is greater than the\n",
    "            #remaining time, stop training\n",
    "        remainingTime = self.maxExecutionTime - self.elapsedTime\n",
    "        if remainingTime < self.longestTime:\n",
    "            \n",
    "            self.model.stop_training = True  #this tells Keras to not continue training\n",
    "            print(\"\\n\\nTimerCallback: Finishing model training before it takes too much time. (Elapsed time: \" + str(self.elapsedTime/60.) + \" minutes )\\n\\n\")\n",
    "            \n",
    "            #if we have passed the `on_interrupt` callback, call it here\n",
    "            if self.on_interrupt is not None:\n",
    "                self.on_interrupt(self.model, self.elapsedTime)\n"
   ]
  },
  {
   "cell_type": "markdown",
   "metadata": {},
   "source": [
    "1000 mis delay for restarting the kernal, used this function as the Kaggle kernal often restarts abruptly"
   ]
  },
  {
   "cell_type": "code",
   "execution_count": 107,
   "metadata": {},
   "outputs": [],
   "source": [
    "timerCallback = TimerCallback(1000)"
   ]
  },
  {
   "cell_type": "markdown",
   "metadata": {},
   "source": [
    "\n",
    "\n",
    "Additionally we follow an efficient workflow. <br>\n",
    "\n",
    "For the first step we will take a simple neural network based on the keras library. After that we will use a RNN.\n"
   ]
  },
  {
   "cell_type": "markdown",
   "metadata": {},
   "source": [
    "# Load Libraries"
   ]
  },
  {
   "cell_type": "code",
   "execution_count": 108,
   "metadata": {
    "_cell_guid": "79c7e3d0-c299-4dcb-8224-4455121ee9b0",
    "_uuid": "d629ff2d2480ee46fbb7e2d37f6b5fab8052498a"
   },
   "outputs": [],
   "source": [
    "import numpy as np\n",
    "import pandas as pd\n",
    "import scipy.special\n",
    "import matplotlib.pyplot as plt\n",
    "import os\n",
    "import random"
   ]
  },
  {
   "cell_type": "code",
   "execution_count": 109,
   "metadata": {},
   "outputs": [],
   "source": [
    "from keras.utils import Sequence\n",
    "from keras.models import Sequential # fully connected feedforward neural network\n",
    "from keras.layers import Dense, Dropout, Flatten, LSTM, Embedding\n",
    "from keras.optimizers import RMSprop,Adam\n",
    "import keras.backend as K"
   ]
  },
  {
   "cell_type": "code",
   "execution_count": 110,
   "metadata": {},
   "outputs": [],
   "source": [
    "from sklearn.model_selection import train_test_split\n",
    "from sklearn.impute import SimpleImputer\n",
    "from sklearn.preprocessing import MinMaxScaler"
   ]
  },
  {
   "cell_type": "code",
   "execution_count": 111,
   "metadata": {},
   "outputs": [],
   "source": [
    "import warnings\n",
    "warnings.filterwarnings(\"ignore\")"
   ]
  },
  {
   "cell_type": "markdown",
   "metadata": {},
   "source": [
    "# Load Data"
   ]
  },
  {
   "cell_type": "code",
   "execution_count": 112,
   "metadata": {},
   "outputs": [
    {
     "name": "stdout",
     "output_type": "stream",
     "text": [
      "['.ipynb_checkpoints', 'ashrae-baselinemodeling-crossvalidation.ipynb', 'ashrae-datagenerator-lstm.ipynb', 'building_metadata.csv', 'building_metadata1.csv', 'Half and half.ipynb', 'kaggle-ashrae-energy-3-master', 'LSTM nn(1).ipynb', 'LSTM nn.ipynb', 'LSTM nn_o.ipynb', 'LSTM.ipynb', 'Proj_ver1.ipynb', 'sample_submission.csv', 'submission.csv', 'submission1221.csv', 'submission1222.csv', 'test.csv', 'test1.csv', 'train.csv', 'train1.csv', 'weather_test.csv', 'weather_test1.csv', 'weather_train.csv', 'weather_train1.csv']\n"
     ]
    }
   ],
   "source": [
    "path_in = r'C:\\Users\\ingle\\JUPYTER\\Project 2' # root directory in my laptop\n",
    "print(os.listdir(path_in))"
   ]
  },
  {
   "cell_type": "code",
   "execution_count": 113,
   "metadata": {},
   "outputs": [],
   "source": [
    "train_data = pd.read_csv('train.csv', parse_dates=['timestamp'])\n",
    "train_weather = pd.read_csv('weather_train.csv', parse_dates=['timestamp'])\n",
    "building_data = pd.read_csv('building_metadata.csv')"
   ]
  },
  {
   "cell_type": "code",
   "execution_count": 114,
   "metadata": {},
   "outputs": [],
   "source": [
    "def plot_bar(data, name):# help function\n",
    "    fig = plt.figure(figsize=(16, 9))\n",
    "    ax = fig.add_subplot(111)\n",
    "    data_label = data[name].value_counts()\n",
    "    dict_train = dict(zip(data_label.keys(), ((data_label.sort_index())).tolist()))\n",
    "    names = list(dict_train.keys())\n",
    "    values = list(dict_train.values())\n",
    "    plt.bar(names, values)\n",
    "    ax.set_xticklabels(names, rotation=45)\n",
    "    plt.grid()\n",
    "    plt.show()"
   ]
  },
  {
   "cell_type": "markdown",
   "metadata": {},
   "source": [
    "# Handle missing values of building and weather data\n",
    "The missing data are numerical values. So for the first step we can use a simple imputer of the sklearn library."
   ]
  },
  {
   "cell_type": "code",
   "execution_count": 115,
   "metadata": {},
   "outputs": [],
   "source": [
    "cols_with_missing_train_weather = [col for col in train_weather.columns if train_weather[col].isnull().any()]\n",
    "cols_with_missing_building = [col for col in building_data.columns if building_data[col].isnull().any()]"
   ]
  },
  {
   "cell_type": "code",
   "execution_count": 116,
   "metadata": {},
   "outputs": [
    {
     "name": "stdout",
     "output_type": "stream",
     "text": [
      "['air_temperature', 'cloud_coverage', 'dew_temperature', 'precip_depth_1_hr', 'sea_level_pressure', 'wind_direction', 'wind_speed']\n",
      "['year_built', 'floor_count']\n"
     ]
    }
   ],
   "source": [
    "print(cols_with_missing_train_weather)\n",
    "print(cols_with_missing_building)"
   ]
  },
  {
   "cell_type": "code",
   "execution_count": 117,
   "metadata": {},
   "outputs": [],
   "source": [
    "imp_most = SimpleImputer(strategy='most_frequent')\n",
    "train_weather[cols_with_missing_train_weather] = imp_most.fit_transform(train_weather[cols_with_missing_train_weather])\n",
    "building_data[cols_with_missing_building] = imp_most.fit_transform(building_data[cols_with_missing_building])"
   ]
  },
  {
   "cell_type": "markdown",
   "metadata": {},
   "source": [
    "# Scale objective label"
   ]
  },
  {
   "cell_type": "code",
   "execution_count": 118,
   "metadata": {},
   "outputs": [],
   "source": [
    "train_data['meter_reading'] = np.log1p(train_data['meter_reading'])"
   ]
  },
  {
   "cell_type": "markdown",
   "metadata": {},
   "source": [
    "# Create new features\n",
    "## Train data\n",
    "Based on the timestamp we create new features which are cyclic."
   ]
  },
  {
   "cell_type": "code",
   "execution_count": 119,
   "metadata": {},
   "outputs": [],
   "source": [
    "train_data['month'] = train_data['timestamp'].dt.month\n",
    "train_data['day'] = train_data['timestamp'].dt.weekday\n",
    "train_data['year'] = train_data['timestamp'].dt.year\n",
    "train_data['hour'] = train_data['timestamp'].dt.hour"
   ]
  },
  {
   "cell_type": "markdown",
   "metadata": {},
   "source": [
    "Additionally we create the feature weekend: 5 = saturday and 6 = sunday."
   ]
  },
  {
   "cell_type": "code",
   "execution_count": 120,
   "metadata": {},
   "outputs": [],
   "source": [
    "train_data['weekend'] = np.where((train_data['day'] == 5) | (train_data['day'] == 6), 1, 0)"
   ]
  },
  {
   "cell_type": "markdown",
   "metadata": {},
   "source": [
    "## Weather data\n",
    "The feature wind_direction is cyclic."
   ]
  },
  {
   "cell_type": "code",
   "execution_count": 121,
   "metadata": {},
   "outputs": [],
   "source": [
    "train_weather['wind_direction'+'_sin'] = np.sin((2*np.pi*train_weather['wind_direction'])/360)\n",
    "train_weather['wind_direction'+'_cos'] = np.cos((2*np.pi*train_weather['wind_direction'])/360)\n",
    "train_weather = train_weather.drop(['wind_direction'], axis=1)"
   ]
  },
  {
   "cell_type": "markdown",
   "metadata": {},
   "source": [
    "# Encoding\n",
    "We also use categorical feature encoding techniques, compare <br>\n",
    "https://www.kaggle.com/drcapa/categorical-feature-encoding-challenge-xgb\n",
    "\n",
    "### Feature meter\n",
    "There are 4 types of meters: <br>\n",
    "0 = electricity, 1 = chilledwater, 2 = steam, 3 = hotwater <br>\n",
    "We use the one hot encoding for this 4 feature."
   ]
  },
  {
   "cell_type": "code",
   "execution_count": 122,
   "metadata": {},
   "outputs": [],
   "source": [
    "train_data = pd.get_dummies(train_data, columns=['meter'])"
   ]
  },
  {
   "cell_type": "markdown",
   "metadata": {},
   "source": [
    "### Features month, day and hour\n",
    "We created the features month, day and hour which are cyclic."
   ]
  },
  {
   "cell_type": "code",
   "execution_count": 123,
   "metadata": {},
   "outputs": [],
   "source": [
    "features_cyc = {'month' : 12, 'day' : 7, 'hour' : 24}\n",
    "for feature in features_cyc.keys():\n",
    "    train_data[feature+'_sin'] = np.sin((2*np.pi*train_data[feature])/features_cyc[feature])\n",
    "    train_data[feature+'_cos'] = np.cos((2*np.pi*train_data[feature])/features_cyc[feature])\n",
    "train_data = train_data.drop(features_cyc.keys(), axis=1)"
   ]
  },
  {
   "cell_type": "markdown",
   "metadata": {},
   "source": [
    "## Building data\n"
   ]
  },
  {
   "cell_type": "code",
   "execution_count": 124,
   "metadata": {},
   "outputs": [
    {
     "data": {
      "image/png": "[encoded data removed]",
      "text/plain": [
       "<Figure size 1152x648 with 1 Axes>"
      ]
     },
     "metadata": {
      "needs_background": "light"
     },
     "output_type": "display_data"
    }
   ],
   "source": [
    "plot_bar(building_data, 'primary_use')#The feature primary_use is a categorical feature with 16 categories. For the first we use a simple mapping."
   ]
  },
  {
   "cell_type": "code",
   "execution_count": 125,
   "metadata": {},
   "outputs": [],
   "source": [
    "map_use = dict(zip(building_data['primary_use'].value_counts().sort_index().keys(),\n",
    "                     range(1, len(building_data['primary_use'].value_counts())+1)))"
   ]
  },
  {
   "cell_type": "code",
   "execution_count": 126,
   "metadata": {},
   "outputs": [],
   "source": [
    "building_data['primary_use'] = building_data['primary_use'].replace(map_use)"
   ]
  },
  {
   "cell_type": "code",
   "execution_count": 127,
   "metadata": {},
   "outputs": [],
   "source": [
    "#building_data = pd.get_dummies(building_data, columns=['primary_use'])"
   ]
  },
  {
   "cell_type": "markdown",
   "metadata": {},
   "source": [
    "# Scale building and weather data\n",
    "## Weather data"
   ]
  },
  {
   "cell_type": "code",
   "execution_count": 128,
   "metadata": {},
   "outputs": [],
   "source": [
    "weather_scale = ['air_temperature', 'cloud_coverage', 'dew_temperature', 'sea_level_pressure', 'wind_speed']"
   ]
  },
  {
   "cell_type": "code",
   "execution_count": 129,
   "metadata": {},
   "outputs": [],
   "source": [
    "mean = train_weather[weather_scale].mean(axis=0)\n",
    "train_weather[weather_scale] = train_weather[weather_scale].astype('float32')\n",
    "train_weather[weather_scale] -= train_weather[weather_scale].mean(axis=0)\n",
    "std = train_weather[weather_scale].std(axis=0)\n",
    "train_weather[weather_scale] /= train_weather[weather_scale].std(axis=0)"
   ]
  },
  {
   "cell_type": "markdown",
   "metadata": {},
   "source": [
    "## Building data"
   ]
  },
  {
   "cell_type": "code",
   "execution_count": 130,
   "metadata": {},
   "outputs": [],
   "source": [
    "building_scale = ['square_feet', 'year_built', 'floor_count']"
   ]
  },
  {
   "cell_type": "code",
   "execution_count": 131,
   "metadata": {},
   "outputs": [],
   "source": [
    "mean = building_data[building_scale].mean(axis=0)\n",
    "building_data[building_scale] = building_data[building_scale].astype('float32')\n",
    "building_data[building_scale] -= building_data[building_scale].mean(axis=0)\n",
    "std = building_data[building_scale].std(axis=0)\n",
    "building_data[building_scale] /= building_data[building_scale].std(axis=0)"
   ]
  },
  {
   "cell_type": "markdown",
   "metadata": {},
   "source": [
    "# Merge data"
   ]
  },
  {
   "cell_type": "code",
   "execution_count": 132,
   "metadata": {},
   "outputs": [],
   "source": [
    "train_data = pd.merge(train_data, building_data, on='building_id', right_index=True)\n",
    "train_data = train_data.sort_values(['timestamp'])\n",
    "train_data = pd.merge_asof(train_data, train_weather, on='timestamp', by='site_id', right_index=True)\n",
    "del train_weather"
   ]
  },
  {
   "cell_type": "markdown",
   "metadata": {},
   "source": [
    "# Build the data generator"
   ]
  },
  {
   "cell_type": "markdown",
   "metadata": {},
   "source": [
    "A data generator was used as the data set is too large.\n",
    "https://stanford.edu/~shervine/blog/keras-how-to-generate-data-on-the-fly\n"
   ]
  },
  {
   "cell_type": "code",
   "execution_count": 133,
   "metadata": {},
   "outputs": [],
   "source": [
    "class DataGenerator(Sequence):\n",
    "    \"\"\" A data generator based on the template\n",
    "        https://stanford.edu/~shervine/blog/keras-how-to-generate-data-on-the-fly\n",
    "        \"\"\"\n",
    "    \n",
    "    def __init__(self, data, list_IDs, features, batch_size, shuffle=False):\n",
    "        self.data = data.loc[list_IDs].copy()\n",
    "        self.list_IDs = list_IDs\n",
    "        self.features = features\n",
    "        self.batch_size = batch_size\n",
    "        self.shuffle = shuffle\n",
    "        self.on_epoch_end()\n",
    "    \n",
    "    \n",
    "    def __len__(self):\n",
    "        return int(np.floor(len(self.list_IDs)/self.batch_size))\n",
    "    \n",
    "    \n",
    "    def __getitem__(self, index):\n",
    "        indexes = self.indexes[index*self.batch_size:(index+1)*self.batch_size]\n",
    "        list_IDs_temp = [self.list_IDs[k] for k in indexes]\n",
    "        X, y = self.__data_generation(list_IDs_temp)\n",
    "        return X, y\n",
    "    \n",
    "    \n",
    "    def on_epoch_end(self):\n",
    "        self.indexes = np.arange(len(self.list_IDs))\n",
    "        if self.shuffle == True:\n",
    "            np.random.shuffle(self.indexes)\n",
    "\n",
    "        \n",
    "    def __data_generation(self, list_IDs_temp):        \n",
    "        X = np.empty((len(list_IDs_temp), len(self.features)), dtype=float)\n",
    "        y = np.empty((len(list_IDs_temp), 1), dtype=float)\n",
    "        X = self.data.loc[list_IDs_temp, self.features].values\n",
    "        \n",
    "        if 'meter_reading' in self.data.columns:\n",
    "            y = self.data.loc[list_IDs_temp, 'meter_reading'].values\n",
    "        # reshape\n",
    "        X = np.reshape(X, (X.shape[0], 1, X.shape[1]))\n",
    "        return X, y"
   ]
  },
  {
   "cell_type": "markdown",
   "metadata": {},
   "source": [
    "# Split the random input data into train and val\n",
    "Since it's a timeseries problem, we split the train and validation data by timestamp and not with a random split."
   ]
  },
  {
   "cell_type": "code",
   "execution_count": 134,
   "metadata": {},
   "outputs": [
    {
     "name": "stdout",
     "output_type": "stream",
     "text": [
      "15162075 5054025\n"
     ]
    }
   ],
   "source": [
    "train_size = int(len(train_data.index)*0.75)\n",
    "val_size = len(train_data.index) - train_size\n",
    "train_list, val_list = train_data.index[0:train_size], train_data.index[train_size:train_size+val_size]\n",
    "print(train_size, val_size)\n"
   ]
  },
  {
   "cell_type": "markdown",
   "metadata": {},
   "source": [
    "# Define the features"
   ]
  },
  {
   "cell_type": "code",
   "execution_count": 135,
   "metadata": {},
   "outputs": [],
   "source": [
    "no_features = ['building_id', 'timestamp', 'meter_reading', 'year']\n",
    "features = train_data.columns.difference(no_features)"
   ]
  },
  {
   "cell_type": "markdown",
   "metadata": {},
   "source": [
    "# Define train and validation data via Data Generator"
   ]
  },
  {
   "cell_type": "code",
   "execution_count": 136,
   "metadata": {},
   "outputs": [],
   "source": [
    "batch_size = 1024\n",
    "train_generator = DataGenerator(train_data, train_list, features, batch_size)\n",
    "val_generator = DataGenerator(train_data, val_list, features, batch_size)"
   ]
  },
  {
   "cell_type": "markdown",
   "metadata": {},
   "source": [
    "# Define Recurrent Neural Network\n",
    "We use a simple recurrent neural network for train and prediction. Later we will improve."
   ]
  },
  {
   "cell_type": "code",
   "execution_count": 137,
   "metadata": {},
   "outputs": [
    {
     "name": "stdout",
     "output_type": "stream",
     "text": [
      "24\n"
     ]
    }
   ],
   "source": [
    "input_dim = len(features)\n",
    "print(input_dim)"
   ]
  },
  {
   "cell_type": "code",
   "execution_count": 138,
   "metadata": {},
   "outputs": [],
   "source": [
    "model = Sequential()\n",
    "#model.add(Embedding(input_length=input_dim))\n",
    "model.add(LSTM(units=8, activation = 'relu', input_shape=(1, input_dim)))\n",
    "#model.add(LSTM(units=64, activation = 'relu'))\n",
    "#model.add(Dense(128, activation='relu', input_dim=input_dim))\n",
    "#model.add(Dense(256, activation='relu'))\n",
    "#model.add(Dense(512, activation='relu'))\n",
    "model.add(Dense(1, activation='relu'))"
   ]
  },
  {
   "cell_type": "code",
   "execution_count": 139,
   "metadata": {},
   "outputs": [],
   "source": [
    "def rmse(y_true, y_pred):\n",
    "    \"\"\" root_mean_squared_error \"\"\"\n",
    "    return K.sqrt(K.mean(K.square(y_pred - y_true)))"
   ]
  },
  {
   "cell_type": "code",
   "execution_count": 140,
   "metadata": {},
   "outputs": [],
   "source": [
    "model.compile(optimizer = Adam(lr=1e-4),\n",
    "              loss='mse',\n",
    "              metrics=[rmse])"
   ]
  },
  {
   "cell_type": "code",
   "execution_count": 141,
   "metadata": {},
   "outputs": [
    {
     "name": "stdout",
     "output_type": "stream",
     "text": [
      "_________________________________________________________________\n",
      "Layer (type)                 Output Shape              Param #   \n",
      "=================================================================\n",
      "lstm_3 (LSTM)                (None, 8)                 1056      \n",
      "_________________________________________________________________\n",
      "dense_3 (Dense)              (None, 1)                 9         \n",
      "=================================================================\n",
      "Total params: 1,065\n",
      "Trainable params: 1,065\n",
      "Non-trainable params: 0\n",
      "_________________________________________________________________\n"
     ]
    }
   ],
   "source": [
    "model.summary()"
   ]
  },
  {
   "cell_type": "code",
   "execution_count": 142,
   "metadata": {},
   "outputs": [],
   "source": [
    "epochs = 1"
   ]
  },
  {
   "cell_type": "markdown",
   "metadata": {},
   "source": [
    "# Train model"
   ]
  },
  {
   "cell_type": "code",
   "execution_count": 143,
   "metadata": {},
   "outputs": [
    {
     "name": "stdout",
     "output_type": "stream",
     "text": [
      "Epoch 1/1\n",
      "14806/14806 [==============================] - 19806s 1s/step - loss: 5.0847 - rmse: 2.1612 - val_loss: 3.3039 - val_rmse: 1.8119\n"
     ]
    }
   ],
   "source": [
    "history = model.fit_generator(generator=train_generator,\n",
    "                              validation_data=val_generator,\n",
    "                              epochs = epochs,\n",
    "                             callbacks = [timerCallback])"
   ]
  },
  {
   "cell_type": "markdown",
   "metadata": {},
   "source": [
    "# Analyse results\n",
    "A short analysis of the train results."
   ]
  },
  {
   "cell_type": "code",
   "execution_count": 144,
   "metadata": {},
   "outputs": [
    {
     "data": {
      "image/png": "[encoded data removed]",
      "text/plain": [
       "<Figure size 432x288 with 1 Axes>"
      ]
     },
     "metadata": {
      "needs_background": "light"
     },
     "output_type": "display_data"
    }
   ],
   "source": [
    "loss = history.history['loss']\n",
    "loss_val = history.history['val_loss']\n",
    "epochs = range(1, len(loss)+1)\n",
    "plt.plot(epochs, loss, 'bo', label='loss_train')\n",
    "plt.plot(epochs, loss_val, 'b', label='loss_val')\n",
    "plt.title('value of the loss function')\n",
    "plt.xlabel('epochs')\n",
    "plt.ylabel('value of the loss function')\n",
    "plt.legend()\n",
    "plt.grid()\n",
    "plt.show()"
   ]
  },
  {
   "cell_type": "code",
   "execution_count": 145,
   "metadata": {},
   "outputs": [
    {
     "data": {
      "image/png": "[encoded data removed]",
      "text/plain": [
       "<Figure size 432x288 with 1 Axes>"
      ]
     },
     "metadata": {
      "needs_background": "light"
     },
     "output_type": "display_data"
    }
   ],
   "source": [
    "acc = history.history['rmse']\n",
    "acc_val = history.history['val_rmse']\n",
    "epochs = range(1, len(loss)+1)\n",
    "plt.plot(epochs, acc, 'bo', label='accuracy_train')\n",
    "plt.plot(epochs, acc_val, 'b', label='accuracy_val')\n",
    "plt.title('accuracy')\n",
    "plt.xlabel('epochs')\n",
    "plt.ylabel('value of accuracy')\n",
    "plt.legend()\n",
    "plt.grid()\n",
    "plt.show()"
   ]
  },
  {
   "cell_type": "markdown",
   "metadata": {},
   "source": [
    "# Delete train data"
   ]
  },
  {
   "cell_type": "code",
   "execution_count": 146,
   "metadata": {},
   "outputs": [],
   "source": [
    "del train_data"
   ]
  },
  {
   "cell_type": "markdown",
   "metadata": {},
   "source": [
    "# Predict test data\n",
    "* We following the steps above to prepare the data\n",
    "* Build data generator\n",
    "* Predict subdate\n",
    "* Write data in an array"
   ]
  },
  {
   "cell_type": "code",
   "execution_count": null,
   "metadata": {},
   "outputs": [],
   "source": []
  },
  {
   "cell_type": "code",
   "execution_count": 147,
   "metadata": {},
   "outputs": [
    {
     "name": "stdout",
     "output_type": "stream",
     "text": [
      "work on step  1\n",
      "1632/1632 [==============================] - 298s 182ms/step\n",
      "work on step  2\n",
      "1632/1632 [==============================] - 295s 181ms/step\n",
      "work on step  3\n",
      "1632/1632 [==============================] - 278s 170ms/step\n",
      "work on step  4\n",
      "1632/1632 [==============================] - 279s 171ms/step\n",
      "work on step  5\n",
      "1632/1632 [==============================] - 288s 177ms/step\n",
      "work on step  6\n",
      "1632/1632 [==============================] - 284s 174ms/step\n",
      "work on step  7\n",
      "1632/1632 [==============================] - 237s 145ms/step\n",
      "work on step  8\n",
      "1632/1632 [==============================] - 239s 146ms/step\n",
      "work on step  9\n",
      "1632/1632 [==============================] - 228s 140ms/step\n",
      "work on step  10\n",
      "1632/1632 [==============================] - 296s 181ms/step\n",
      "work on step  11\n",
      "1632/1632 [==============================] - 276s 169ms/step\n",
      "work on step  12\n",
      "1632/1632 [==============================] - 274s 168ms/step\n",
      "work on step  13\n",
      "1632/1632 [==============================] - 287s 176ms/step\n",
      "work on step  14\n",
      "1632/1632 [==============================] - 293s 180ms/step\n",
      "work on step  15\n",
      "1632/1632 [==============================] - 290s 178ms/step\n",
      "work on step  16\n",
      "1632/1632 [==============================] - 337s 206ms/step\n",
      "work on step  17\n",
      "1632/1632 [==============================] - 314s 192ms/step\n",
      "work on step  18\n",
      "1632/1632 [==============================] - 356s 218ms/step\n",
      "work on step  19\n",
      "1632/1632 [==============================] - 363s 222ms/step\n",
      "work on step  20\n",
      "1632/1632 [==============================] - 361s 222ms/step\n",
      "work on step  21\n",
      "1632/1632 [==============================] - 324s 199ms/step\n",
      "work on step  22\n",
      "1632/1632 [==============================] - 325s 199ms/step\n",
      "work on step  23\n",
      "1632/1632 [==============================] - 320s 196ms/step\n",
      "work on step  24\n",
      "1632/1632 [==============================] - 274s 168ms/step\n",
      "work on step  25\n",
      "1632/1632 [==============================] - 270s 166ms/step\n"
     ]
    }
   ],
   "source": [
    "\n",
    "\n",
    "nrows = 1667904\n",
    "batch_size = 1022\n",
    "steps = 25\n",
    "y_test = np.empty(())\n",
    "test_weather = pd.read_csv('weather_test.csv', parse_dates=['timestamp'])\n",
    "cols_with_missing_test_weather = [col for col in test_weather.columns if test_weather[col].isnull().any()]\n",
    "test_weather[cols_with_missing_test_weather] = imp_most.fit_transform(test_weather[cols_with_missing_test_weather])\n",
    "\n",
    "mean = test_weather[weather_scale].mean(axis=0)\n",
    "test_weather[weather_scale] = test_weather[weather_scale].astype('float32')\n",
    "test_weather[weather_scale] -= test_weather[weather_scale].mean(axis=0)\n",
    "std = test_weather[weather_scale].std(axis=0)\n",
    "test_weather[weather_scale] /= test_weather[weather_scale].std(axis=0)\n",
    "\n",
    "test_weather['wind_direction'+'_sin'] = np.sin((2*np.pi*test_weather['wind_direction'])/360)\n",
    "test_weather['wind_direction'+'_cos'] = np.cos((2*np.pi*test_weather['wind_direction'])/360)\n",
    "test_weather = test_weather.drop(['wind_direction'], axis=1)\n",
    "\n",
    "for i in range(0, steps):\n",
    "    print('work on step ', (i+1))\n",
    "    test_data = pd.read_csv('test.csv', skiprows=range(1,i*(nrows)+1), nrows=nrows, parse_dates=['timestamp'])\n",
    "    test_data['month'] = test_data['timestamp'].dt.month\n",
    "    test_data['day'] = test_data['timestamp'].dt.weekday\n",
    "    test_data['year'] = test_data['timestamp'].dt.year\n",
    "    test_data['hour'] = test_data['timestamp'].dt.hour\n",
    "    test_data['weekend'] = np.where((test_data['day'] == 5) | (test_data['day'] == 6), 1, 0)\n",
    "    for feature in features_cyc.keys():\n",
    "        test_data[feature+'_sin'] = np.sin((2*np.pi*test_data[feature])/features_cyc[feature])\n",
    "        test_data[feature+'_cos'] = np.cos((2*np.pi*test_data[feature])/features_cyc[feature])\n",
    "    test_data = test_data.drop(features_cyc.keys(), axis=1)\n",
    "    test_data = pd.get_dummies(test_data, columns=['meter'])\n",
    "    test_data = pd.merge(test_data, building_data, on='building_id', right_index=True)\n",
    "    test_data = test_data.sort_values(['timestamp'])\n",
    "    test_data = pd.merge_asof(test_data, test_weather, on='timestamp', by='site_id', right_index=True)\n",
    "    test_data = test_data.sort_values(['row_id'])\n",
    "    for feature in features:\n",
    "        if feature not in test_data:\n",
    "            #print('   not in:', feature)\n",
    "            test_data[feature] = 0\n",
    "    test_generator = DataGenerator(test_data, test_data.index, features, batch_size)\n",
    "    predict = model.predict_generator(test_generator, verbose=1, workers=1)\n",
    "    predict = np.expm1(predict)\n",
    "    y_test = np.vstack((y_test, predict))\n",
    "    del test_data\n",
    "    del test_generator"
   ]
  },
  {
   "cell_type": "code",
   "execution_count": 148,
   "metadata": {},
   "outputs": [],
   "source": [
    "#y_test = np.delete(y_test, 0, 0) # deleting the test data after the training but i havent deleted it as, i had to test the output csv file before doing that\n"
   ]
  },
  {
   "cell_type": "markdown",
   "metadata": {},
   "source": [
    "# Delete data"
   ]
  },
  {
   "cell_type": "code",
   "execution_count": 149,
   "metadata": {},
   "outputs": [],
   "source": [
    "#del test_weather\n",
    "#del building_data"
   ]
  },
  {
   "cell_type": "markdown",
   "metadata": {},
   "source": [
    "# Write output for submission"
   ]
  },
  {
   "cell_type": "code",
   "execution_count": 151,
   "metadata": {},
   "outputs": [],
   "source": [
    "output = pd.DataFrame({'row_id': range(0, len(y_test)),\n",
    "                       'meter_reading': y_test.reshape(len(y_test))})\n",
    "output = output[['row_id', 'meter_reading']]\n",
    "output.to_csv('submissionchutya.csv', index=False)"
   ]
  },
  {
   "cell_type": "markdown",
   "metadata": {},
   "source": [
    "The submission.csv file is generated in the output directory of the kaggle website , we have submitted it and got our over all rankings which is mentioned in the report"
   ]
  }
 ],
 "metadata": {
  "kernelspec": {
   "display_name": "Python 3",
   "language": "python",
   "name": "python3"
  },
  "language_info": {
   "codemirror_mode": {
    "name": "ipython",
    "version": 3
   },
   "file_extension": ".py",
   "mimetype": "text/x-python",
   "name": "python",
   "nbconvert_exporter": "python",
   "pygments_lexer": "ipython3",
   "version": "3.7.4"
  },
  "toc": {
   "base_numbering": 1,
   "nav_menu": {},
   "number_sections": true,
   "sideBar": true,
   "skip_h1_title": false,
   "title_cell": "Table of Contents",
   "title_sidebar": "Contents",
   "toc_cell": false,
   "toc_position": {},
   "toc_section_display": true,
   "toc_window_display": true
  }
 },
 "nbformat": 4,
 "nbformat_minor": 1
}
